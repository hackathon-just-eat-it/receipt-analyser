{
 "cells": [
  {
   "cell_type": "code",
   "execution_count": 8,
   "metadata": {
    "collapsed": true
   },
   "outputs": [],
   "source": [
    "import numpy as np\n",
    "import pandas as pd\n",
    "import json"
   ]
  },
  {
   "cell_type": "code",
   "execution_count": 37,
   "metadata": {
    "collapsed": false
   },
   "outputs": [
    {
     "name": "stdout",
     "output_type": "stream",
     "text": [
      "UserModelDB.py   get_ids.ipynb    start_server.sh\r\n",
      "\u001b[34m__pycache__\u001b[m\u001b[m/     server.py\r\n"
     ]
    }
   ],
   "source": [
    "ls"
   ]
  },
  {
   "cell_type": "code",
   "execution_count": 74,
   "metadata": {
    "collapsed": false
   },
   "outputs": [],
   "source": [
    "def get_images(number):\n",
    "    filename = '../yummly/metadata27638/meta' + '0'*(5 - len(str(number)))+ str(number) + '.json'\n",
    "    with open(filename) as json_data:\n",
    "        data = json.load(json_data)\n",
    "    imageurl = ''\n",
    "    if len(data['images']) > 0:\n",
    "        imageurl = next (iter (data['images'][0].values()))\n",
    "    return data['name'],imageurl\n",
    "\n",
    "data = pd.read_csv('../yummly/data_records_27638.txt', sep=\"\\t\", header=None);\n",
    "data = data.rename(columns={0: \"id\", 1: 'filenumber'})\n",
    "data['name'],data['images'] = zip(*data['filenumber'].transform(get_images))\n",
    "data = data.sort_values(by=['id'])"
   ]
  },
  {
   "cell_type": "code",
   "execution_count": 75,
   "metadata": {
    "collapsed": false
   },
   "outputs": [],
   "source": [
    "data[['id','name','images']].to_csv('receipt_images.csv')"
   ]
  },
  {
   "cell_type": "code",
   "execution_count": 83,
   "metadata": {
    "collapsed": false
   },
   "outputs": [
    {
     "data": {
      "text/plain": [
       "[{'hostedLargeUrl': 'http://lh3.ggpht.com/RWjPy1Ca7LMIWtS1GQ3T9DcPMsQFWP3bLuR72810CCOoTH3IsoQv17QOgzpDYCEgZxLtvnG8VZBuLKtugBCtOA=s360',\n",
       "  'hostedMediumUrl': 'http://lh3.ggpht.com/RWjPy1Ca7LMIWtS1GQ3T9DcPMsQFWP3bLuR72810CCOoTH3IsoQv17QOgzpDYCEgZxLtvnG8VZBuLKtugBCtOA=s180',\n",
       "  'hostedSmallUrl': 'http://lh3.ggpht.com/RWjPy1Ca7LMIWtS1GQ3T9DcPMsQFWP3bLuR72810CCOoTH3IsoQv17QOgzpDYCEgZxLtvnG8VZBuLKtugBCtOA=s90',\n",
       "  'imageUrlsBySize': {'360': 'http://lh3.ggpht.com/VbTVp6u90G2J196mn6LXYTj92PPhaULEFLF23v51XqPyYAjP8WY15uf_RaKt4v9kCyt-MaFykPKptai_pAuywAA=s360-c',\n",
       "   '90': 'http://lh3.ggpht.com/VbTVp6u90G2J196mn6LXYTj92PPhaULEFLF23v51XqPyYAjP8WY15uf_RaKt4v9kCyt-MaFykPKptai_pAuywAA=s90-c'}}]"
      ]
     },
     "execution_count": 83,
     "metadata": {},
     "output_type": "execute_result"
    }
   ],
   "source": [
    "data['images']"
   ]
  },
  {
   "cell_type": "code",
   "execution_count": 46,
   "metadata": {
    "collapsed": false
   },
   "outputs": [],
   "source": []
  },
  {
   "cell_type": "code",
   "execution_count": 91,
   "metadata": {
    "collapsed": false
   },
   "outputs": [
    {
     "data": {
      "text/plain": [
       "array([], dtype=object)"
      ]
     },
     "execution_count": 91,
     "metadata": {},
     "output_type": "execute_result"
    }
   ],
   "source": [
    "data2 = pd.read_csv('receipt_images.csv')\n",
    "data2[data2['id'] == 'Mushroom Risotto']['images'].values"
   ]
  },
  {
   "cell_type": "code",
   "execution_count": 78,
   "metadata": {
    "collapsed": false
   },
   "outputs": [],
   "source": [
    "filename = '../yummly/metadata27638/meta' + '0'*(5 - len(str('1')))+ str('1') + '.json'\n",
    "with open(filename) as json_data:\n",
    "    data = json.load(json_data)\n",
    "if len(data['images']) > 0:\n",
    "    next (iter (data['images'][0].values()))"
   ]
  },
  {
   "cell_type": "code",
   "execution_count": 60,
   "metadata": {
    "collapsed": true
   },
   "outputs": [],
   "source": [
    "string = \"[{'hostedLargeUrl': 'http://lh3.ggpht.com/RWjPy1Ca7LMIWtS1GQ3T9DcPMsQFWP3bLuR72810CCOoTH3IsoQv17QOgzpDYCEgZxLtvnG8VZBuLKtugBCtOA=s360', 'imageUrlsBySize': {'360': 'http://lh3.ggpht.com/VbTVp6u90G2J196mn6LXYTj92PPhaULEFLF23v51XqPyYAjP8WY15uf_RaKt4v9kCyt-MaFykPKptai_pAuywAA=s360-c', '90': 'http://lh3.ggpht.com/VbTVp6u90G2J196mn6LXYTj92PPhaULEFLF23v51XqPyYAjP8WY15uf_RaKt4v9kCyt-MaFykPKptai_pAuywAA=s90-c'}, 'hostedMediumUrl': 'http://lh3.ggpht.com/RWjPy1Ca7LMIWtS1GQ3T9DcPMsQFWP3bLuR72810CCOoTH3IsoQv17QOgzpDYCEgZxLtvnG8VZBuLKtugBCtOA=s180', 'hostedSmallUrl': 'http://lh3.ggpht.com/RWjPy1Ca7LMIWtS1GQ3T9DcPMsQFWP3bLuR72810CCOoTH3IsoQv17QOgzpDYCEgZxLtvnG8VZBuLKtugBCtOA=s90'}]\""
   ]
  },
  {
   "cell_type": "code",
   "execution_count": 95,
   "metadata": {
    "collapsed": false
   },
   "outputs": [
    {
     "data": {
      "text/plain": [
       "'Mushroom-risotto-352492'"
      ]
     },
     "execution_count": 95,
     "metadata": {},
     "output_type": "execute_result"
    }
   ],
   "source": [
    "next (iter (data['images'][0].values()))\n",
    "data['id']"
   ]
  }
 ],
 "metadata": {
  "anaconda-cloud": {},
  "kernelspec": {
   "display_name": "Python [conda env:anaconda3]",
   "language": "python",
   "name": "conda-env-anaconda3-py"
  },
  "language_info": {
   "codemirror_mode": {
    "name": "ipython",
    "version": 3
   },
   "file_extension": ".py",
   "mimetype": "text/x-python",
   "name": "python",
   "nbconvert_exporter": "python",
   "pygments_lexer": "ipython3",
   "version": "3.5.4"
  }
 },
 "nbformat": 4,
 "nbformat_minor": 2
}
